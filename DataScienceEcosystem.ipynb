{
 "cells": [
  {
   "cell_type": "markdown",
   "id": "c291758e",
   "metadata": {},
   "source": [
    "# Data Science Tools and Ecosystem"
   ]
  },
  {
   "cell_type": "markdown",
   "id": "f4781558",
   "metadata": {},
   "source": [
    "In this notebool. Data Science Tools and Ecosystem are summarized"
   ]
  },
  {
   "cell_type": "markdown",
   "id": "09300c37",
   "metadata": {},
   "source": [
    "Some of the popular Data Science languages are\n",
    "1. Python\n",
    "2. R\n",
    "3. SQL"
   ]
  },
  {
   "cell_type": "markdown",
   "id": "80d54baa",
   "metadata": {},
   "source": [
    "Some of the commonly used Data Science Libraries are:\n",
    "1. TensorFlow\n",
    "2. Numpy\n",
    "3. SciPy\n",
    "4. Pandas\n",
    "5. Matplotlib"
   ]
  },
  {
   "cell_type": "markdown",
   "id": "256feba0",
   "metadata": {},
   "source": [
    "|Data Science Tools |\n",
    "|---|\n",
    "|SAS|\n",
    "|Apache Hadoop|\n",
    "|TensorFlow|"
   ]
  },
  {
   "cell_type": "markdown",
   "id": "720a6921",
   "metadata": {},
   "source": [
    "### Examples for Arithemetic Expressions"
   ]
  },
  {
   "cell_type": "code",
   "execution_count": 5,
   "id": "c1b14123",
   "metadata": {},
   "outputs": [
    {
     "data": {
      "text/plain": [
       "33"
      ]
     },
     "execution_count": 5,
     "metadata": {},
     "output_type": "execute_result"
    }
   ],
   "source": [
    "# Multiply and add numebers\n",
    "3*(5+6)"
   ]
  },
  {
   "cell_type": "code",
   "execution_count": 6,
   "id": "31d2a44e",
   "metadata": {},
   "outputs": [
    {
     "data": {
      "text/plain": [
       "3.3333333333333335"
      ]
     },
     "execution_count": 6,
     "metadata": {},
     "output_type": "execute_result"
    }
   ],
   "source": [
    "# Minute to Hours\n",
    "200/60"
   ]
  },
  {
   "cell_type": "markdown",
   "id": "2465323a",
   "metadata": {},
   "source": [
    "Objectives\n",
    "1. List DS Languages\n",
    "2. List DS Libraries\n",
    "3. Examples of Arithemetic Expressions"
   ]
  },
  {
   "cell_type": "markdown",
   "id": "bee27356",
   "metadata": {},
   "source": [
    "Author: Arjun"
   ]
  }
 ],
 "metadata": {
  "kernelspec": {
   "display_name": "Python 3 (ipykernel)",
   "language": "python",
   "name": "python3"
  },
  "language_info": {
   "codemirror_mode": {
    "name": "ipython",
    "version": 3
   },
   "file_extension": ".py",
   "mimetype": "text/x-python",
   "name": "python",
   "nbconvert_exporter": "python",
   "pygments_lexer": "ipython3",
   "version": "3.11.5"
  }
 },
 "nbformat": 4,
 "nbformat_minor": 5
}
